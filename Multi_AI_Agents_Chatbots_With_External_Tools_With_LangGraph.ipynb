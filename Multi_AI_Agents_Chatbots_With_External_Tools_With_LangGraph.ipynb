{
  "nbformat": 4,
  "nbformat_minor": 0,
  "metadata": {
    "colab": {
      "provenance": [],
      "authorship_tag": "ABX9TyMmpJpI9OGp8qIIyl95pYMS",
      "include_colab_link": true
    },
    "kernelspec": {
      "name": "python3",
      "display_name": "Python 3"
    },
    "language_info": {
      "name": "python"
    }
  },
  "cells": [
    {
      "cell_type": "markdown",
      "metadata": {
        "id": "view-in-github",
        "colab_type": "text"
      },
      "source": [
        "<a href=\"https://colab.research.google.com/github/zulfiqaralimir/AI-Powered-SocialMediaPostOptimizer_LLM/blob/main/Multi_AI_Agents_Chatbots_With_External_Tools_With_LangGraph.ipynb\" target=\"_parent\"><img src=\"https://colab.research.google.com/assets/colab-badge.svg\" alt=\"Open In Colab\"/></a>"
      ]
    },
    {
      "cell_type": "markdown",
      "source": [
        "# Installing Liberaries"
      ],
      "metadata": {
        "id": "tl0qd2gTHO8g"
      }
    },
    {
      "cell_type": "code",
      "execution_count": null,
      "metadata": {
        "id": "9eBzCD466nnA"
      },
      "outputs": [],
      "source": [
        "!pip install langgraph langsmith langchain langchain_groq langchain_community"
      ]
    },
    {
      "cell_type": "markdown",
      "source": [
        "# For State Management"
      ],
      "metadata": {
        "id": "J-3uQSOzHuOT"
      }
    },
    {
      "cell_type": "code",
      "source": [
        "from typing import Annotated\n",
        "from typing_extensions import TypedDict"
      ],
      "metadata": {
        "id": "Pkw1sGgUHymL"
      },
      "execution_count": null,
      "outputs": []
    },
    {
      "cell_type": "code",
      "source": [
        "!pip install arxiv wikipedia"
      ],
      "metadata": {
        "id": "RLq-6y5yLun6"
      },
      "execution_count": null,
      "outputs": []
    },
    {
      "cell_type": "markdown",
      "source": [
        "# Working with External Tools\n",
        "### **Arxiv API Integration**: The wrapper effectively leverages the Arxiv API to perform efficient and accurate searches for scientific papers.\n",
        "\n",
        "### Researchers can use this wrapper to quickly find and explore relevant scientific literature on their areas of interest, saving time and effort."
      ],
      "metadata": {
        "id": "-haeCwXRIKcw"
      }
    },
    {
      "cell_type": "code",
      "source": [
        "from langchain_community.utilities import ArxivAPIWrapper, WikipediaAPIWrapper\n",
        "from langchain_community.tools import ArxivQueryRun, WikipediaQueryRun"
      ],
      "metadata": {
        "id": "xp9vLq_YINt_"
      },
      "execution_count": null,
      "outputs": []
    },
    {
      "cell_type": "code",
      "source": [
        "arxiv_wrapper = ArxivAPIWrapper(top_k_results=1, doc_content_chars_max=300)\n",
        "arxiv_tool = ArxivQueryRun(api_wrapper=arxiv_wrapper)"
      ],
      "metadata": {
        "id": "oQdTKoceLUGC"
      },
      "execution_count": null,
      "outputs": []
    },
    {
      "cell_type": "code",
      "source": [
        "# Create a Wikipedia API wrapper\n",
        "api_wrapper = WikipediaAPIWrapper(top_k_results=1, doc_content_chars_max=300)\n",
        "# Create a Wikipedia query tool\n",
        "wiki_tool = WikipediaQueryRun(api_wrapper=api_wrapper)"
      ],
      "metadata": {
        "id": "pmqLbCuxLbJn"
      },
      "execution_count": null,
      "outputs": []
    },
    {
      "cell_type": "code",
      "source": [
        "# Invoke the tool with the query\n",
        "result = wiki_tool.invoke(\"What is Generative AI?\")\n",
        "\n",
        "# Print the result\n",
        "print(result)"
      ],
      "metadata": {
        "id": "w2eEGxdrNeI4"
      },
      "execution_count": null,
      "outputs": []
    },
    {
      "cell_type": "code",
      "source": [
        "# Invoke the tool with the query\n",
        "result = arxiv_tool.invoke(\"Attention is all you need\")\n",
        "\n",
        "# Print the result\n",
        "print(result)"
      ],
      "metadata": {
        "id": "9kV0Ms0OOHm1"
      },
      "execution_count": null,
      "outputs": []
    },
    {
      "cell_type": "code",
      "source": [
        "# Create a list of tools\n",
        "tools = [wiki_tool]"
      ],
      "metadata": {
        "id": "TAlW1p4qOjLr"
      },
      "execution_count": null,
      "outputs": []
    },
    {
      "cell_type": "markdown",
      "source": [
        "# Lang Graph Application"
      ],
      "metadata": {
        "id": "AZWfqwO3Ovs4"
      }
    },
    {
      "cell_type": "code",
      "source": [
        "from langgraph.graph.message import add_messages\n",
        "from typing_extensions import TypedDict\n",
        "\n",
        "class State(TypedDict):\n",
        "    messages: Annotated[list, add_messages]"
      ],
      "metadata": {
        "id": "n1V0SHuWOzyK"
      },
      "execution_count": null,
      "outputs": []
    },
    {
      "cell_type": "markdown",
      "source": [
        "## Designing Workflow"
      ],
      "metadata": {
        "id": "UCG-mq-IUGI3"
      }
    },
    {
      "cell_type": "code",
      "source": [
        "from langgraph.graph import StateGraph, START, END"
      ],
      "metadata": {
        "id": "npzCJd65UKGs"
      },
      "execution_count": null,
      "outputs": []
    },
    {
      "cell_type": "code",
      "source": [
        "# Create a new StateGraph instance\n",
        "graph_builder = StateGraph(State)"
      ],
      "metadata": {
        "id": "RpEZgNEwU3fr"
      },
      "execution_count": null,
      "outputs": []
    },
    {
      "cell_type": "markdown",
      "source": [
        "## Calling LLM Model"
      ],
      "metadata": {
        "id": "_Komsn2bU8tN"
      }
    },
    {
      "cell_type": "code",
      "source": [
        "from langchain_groq import ChatGroq"
      ],
      "metadata": {
        "id": "VHzIAg1PVA4T"
      },
      "execution_count": null,
      "outputs": []
    },
    {
      "cell_type": "code",
      "source": [
        "from google.colab import userdata\n",
        "groq_api_key = userdata.get(\"groq_api_key\")"
      ],
      "metadata": {
        "id": "aiZr8MBBWDxb"
      },
      "execution_count": null,
      "outputs": []
    },
    {
      "cell_type": "markdown",
      "source": [
        "**Model = Gemma2-9b-It**"
      ],
      "metadata": {
        "id": "_p8DlcfbXImz"
      }
    },
    {
      "cell_type": "code",
      "source": [
        "llm=ChatGroq(groq_api_key=groq_api_key, model_name=\"Gemma2-9b-It\")\n",
        "llm"
      ],
      "metadata": {
        "id": "8BHEjhDhWpRc"
      },
      "execution_count": null,
      "outputs": []
    },
    {
      "cell_type": "markdown",
      "source": [
        "# Creating Chatbot\n"
      ],
      "metadata": {
        "id": "Md9OJhQrXURp"
      }
    },
    {
      "cell_type": "code",
      "source": [
        "llm_with_tools = llm.bind_tools(tools=tools)"
      ],
      "metadata": {
        "id": "L55qQUFJXXOT"
      },
      "execution_count": null,
      "outputs": []
    },
    {
      "cell_type": "code",
      "source": [
        "def chatbot(state: State):\n",
        "    return {\"messages\": [llm_with_tools.invoke(state[\"messages\"])]}"
      ],
      "metadata": {
        "id": "c-1VvT5dd2uW"
      },
      "execution_count": null,
      "outputs": []
    },
    {
      "cell_type": "markdown",
      "source": [
        "# Creating Entire Flow of Execution"
      ],
      "metadata": {
        "id": "fRhec0o8ewHl"
      }
    },
    {
      "cell_type": "code",
      "source": [
        "from langgraph.prebuilt import ToolNode, tools_condition"
      ],
      "metadata": {
        "id": "1gE2yMs7e134"
      },
      "execution_count": null,
      "outputs": []
    },
    {
      "cell_type": "code",
      "source": [
        "graph_builder.add_node(\"chatbot\", chatbot)\n",
        "graph_builder.add_edge(START, \"chatbot\")\n",
        "tool_node = ToolNode(tools=tools)\n",
        "graph_builder.add_node(\"tools\", tool_node)\n",
        "\n",
        "graph_builder.add_conditional_edges(\n",
        "    \"chatbot\",\n",
        "    tools_condition\n",
        ")\n",
        "\n",
        "graph_builder.add_edge(\"tools\", \"chatbot\")\n",
        "graph_builder.add_edge(\"chatbot\", END)"
      ],
      "metadata": {
        "id": "g4mdTbI3hXZa"
      },
      "execution_count": null,
      "outputs": []
    },
    {
      "cell_type": "markdown",
      "source": [
        "# Compilation"
      ],
      "metadata": {
        "id": "nD51R8Fyhj02"
      }
    },
    {
      "cell_type": "code",
      "source": [
        "graph = graph_builder.compile()"
      ],
      "metadata": {
        "id": "R1-k4uI0hnQ4"
      },
      "execution_count": null,
      "outputs": []
    },
    {
      "cell_type": "code",
      "source": [
        "from IPython.display import Image, display\n",
        "\n",
        "try:\n",
        "    display(Image(graph.get_graph().draw_mermaid_png()))\n",
        "except Exception:\n",
        "    # This requires some extra dependencies and is optional\n",
        "    pass"
      ],
      "metadata": {
        "id": "I8-B55QUiFFi"
      },
      "execution_count": 1,
      "outputs": []
    },
    {
      "cell_type": "markdown",
      "source": [
        "# Testing"
      ],
      "metadata": {
        "id": "oeFTMzhbiXXO"
      }
    },
    {
      "cell_type": "code",
      "source": [
        "user_input = \"Hi there!, My name is Zulfiqar\"\n",
        "\n",
        "events = graph.stream(\n",
        "    {\"messages\": [(\"user\", user_input)]},\n",
        "    stream_mode=\"values\"\n",
        ")\n",
        "\n",
        "for event in events:\n",
        "    event[\"messages\"][-1].pretty_print()"
      ],
      "metadata": {
        "id": "bwBbnErAiZL_"
      },
      "execution_count": null,
      "outputs": []
    }
  ]
}
